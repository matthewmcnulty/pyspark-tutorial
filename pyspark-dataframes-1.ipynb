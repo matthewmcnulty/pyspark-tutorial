{
 "cells": [
  {
   "cell_type": "code",
   "execution_count": 1,
   "metadata": {},
   "outputs": [],
   "source": [
    "from pyspark.sql import SparkSession"
   ]
  },
  {
   "cell_type": "code",
   "execution_count": 2,
   "metadata": {},
   "outputs": [],
   "source": [
    "spark = SparkSession.builder.appName('Dataframes').getOrCreate()"
   ]
  },
  {
   "cell_type": "code",
   "execution_count": 3,
   "metadata": {},
   "outputs": [
    {
     "data": {
      "text/html": [
       "\n",
       "            <div>\n",
       "                <p><b>SparkSession - in-memory</b></p>\n",
       "                \n",
       "        <div>\n",
       "            <p><b>SparkContext</b></p>\n",
       "\n",
       "            <p><a href=\"http://LAPTOP-VR2B5V6T:4041\">Spark UI</a></p>\n",
       "\n",
       "            <dl>\n",
       "              <dt>Version</dt>\n",
       "                <dd><code>v3.3.1</code></dd>\n",
       "              <dt>Master</dt>\n",
       "                <dd><code>local[*]</code></dd>\n",
       "              <dt>AppName</dt>\n",
       "                <dd><code>Dataframes</code></dd>\n",
       "            </dl>\n",
       "        </div>\n",
       "        \n",
       "            </div>\n",
       "        "
      ],
      "text/plain": [
       "<pyspark.sql.session.SparkSession at 0x1acae918910>"
      ]
     },
     "execution_count": 3,
     "metadata": {},
     "output_type": "execute_result"
    }
   ],
   "source": [
    "spark"
   ]
  },
  {
   "cell_type": "code",
   "execution_count": 4,
   "metadata": {},
   "outputs": [],
   "source": [
    "## read the dataset\n",
    "df_pyspark = spark.read.option('header','true').csv('game_of_thrones.csv', inferSchema=True)"
   ]
  },
  {
   "cell_type": "code",
   "execution_count": 5,
   "metadata": {},
   "outputs": [
    {
     "name": "stdout",
     "output_type": "stream",
     "text": [
      "root\n",
      " |-- Season: integer (nullable = true)\n",
      " |-- No. of Episode (Season): integer (nullable = true)\n",
      " |-- No. of Episode (Overall): integer (nullable = true)\n",
      " |-- Title of the Episode: string (nullable = true)\n",
      " |-- Running Time (Minutes): integer (nullable = true)\n",
      " |-- Directed by: string (nullable = true)\n",
      " |-- Written by: string (nullable = true)\n",
      " |-- Original Air Date: string (nullable = true)\n",
      " |-- U.S. Viewers (Millions): double (nullable = true)\n",
      " |-- Music by: string (nullable = true)\n",
      " |-- Cinematography by: string (nullable = true)\n",
      " |-- Editing by: string (nullable = true)\n",
      " |-- IMDb Rating: double (nullable = true)\n",
      " |-- Rotten Tomatoes Rating (Percentage): integer (nullable = true)\n",
      " |-- Metacritic Ratings: double (nullable = true)\n",
      " |-- Ordered: string (nullable = true)\n",
      " |-- Filming Duration: string (nullable = true)\n",
      " |-- Novel(s) Adapted: string (nullable = true)\n",
      " |-- Synopsis: string (nullable = true)\n",
      "\n"
     ]
    }
   ],
   "source": [
    "## Check the schema\n",
    "df_pyspark.printSchema()"
   ]
  },
  {
   "cell_type": "code",
   "execution_count": 6,
   "metadata": {},
   "outputs": [
    {
     "name": "stdout",
     "output_type": "stream",
     "text": [
      "+------+-----------------------+------------------------+--------------------+----------------------+--------------+--------------------+-----------------+-----------------------+-------------+-----------------+-----------------+-----------+-----------------------------------+------------------+--------------+-------------------+-----------------+--------------------+\n",
      "|Season|No. of Episode (Season)|No. of Episode (Overall)|Title of the Episode|Running Time (Minutes)|   Directed by|          Written by|Original Air Date|U.S. Viewers (Millions)|     Music by|Cinematography by|       Editing by|IMDb Rating|Rotten Tomatoes Rating (Percentage)|Metacritic Ratings|       Ordered|   Filming Duration| Novel(s) Adapted|            Synopsis|\n",
      "+------+-----------------------+------------------------+--------------------+----------------------+--------------+--------------------+-----------------+-----------------------+-------------+-----------------+-----------------+-----------+-----------------------------------+------------------+--------------+-------------------+-----------------+--------------------+\n",
      "|     1|                      1|                       1|    Winter Is Coming|                    61|Tim Van Patten|David Benioff, D....|      17-Apr-2011|                   2.22|Ramin Djawadi|    Alik Sakharov|Oral Norrie Ottey|        8.9|                                100|               9.1| March 2, 2010|Second half of 2010|A Game of Thrones|\"North of the Sev...|\n",
      "|     1|                      2|                       2|       The Kingsroad|                    55|Tim Van Patten|David Benioff, D....|      24-Apr-2011|                    2.2|Ramin Djawadi|    Alik Sakharov|Oral Norrie Ottey|        8.6|                                100|               8.9| March 2, 2010|Second half of 2010|A Game of Thrones|\"Ned, the new Han...|\n",
      "|     1|                      3|                       3|           Lord Snow|                    57|    Brian Kirk|David Benioff, D....|       1-May-2011|                   2.44|Ramin Djawadi| Marco Pontecorvo|   Frances Parker|        8.5|                                 81|               8.7| March 2, 2010|Second half of 2010|A Game of Thrones|\"Ned attends the ...|\n",
      "|     1|                      4|                       4|Cripples, Bastard...|                    55|    Brian Kirk|        Bryan Cogman|       8-May-2011|                   2.45|Ramin Djawadi| Marco Pontecorvo|   Frances Parker|        8.6|                                100|               9.1| March 2, 2010|Second half of 2010|A Game of Thrones|While returning t...|\n",
      "|     1|                      5|                       5|The Wolf and the ...|                    54|    Brian Kirk|David Benioff, D....|      15-May-2011|                   2.58|Ramin Djawadi| Marco Pontecorvo|   Frances Parker|        9.0|                                 95|               9.0| March 2, 2010|Second half of 2010|A Game of Thrones|King Robert's eun...|\n",
      "|     1|                      6|                       6|      A Golden Crown|                    52|Daniel Minahan|Jane Espenson, Da...|      22-May-2011|                   2.44|Ramin Djawadi|   Matthew Jensen| Martin Nicholson|        9.1|                                100|               9.2| March 2, 2010|Second half of 2010|A Game of Thrones|King Robert reapp...|\n",
      "|     1|                      7|                       7|  You Win or You Die|                    57|Daniel Minahan|David Benioff, D....|      29-May-2011|                    2.4|Ramin Djawadi|   Matthew Jensen| Martin Nicholson|        9.1|                                100|               9.4| March 2, 2010|Second half of 2010|A Game of Thrones|\"In King's Landin...|\n",
      "|     1|                      8|                       8|      The Pointy End|                    58|Daniel Minahan| George R. R. Martin|       5-Jun-2011|                   2.72|Ramin Djawadi|   Matthew Jensen| Martin Nicholson|        8.9|                                 95|               8.9| March 2, 2010|Second half of 2010|A Game of Thrones|Arya escapes the ...|\n",
      "|     1|                      9|                       9|              Baelor|                    56|   Alan Taylor|David Benioff, D....|      12-Jun-2011|                   2.66|Ramin Djawadi|    Alik Sakharov|   Frances Parker|        9.6|                                100|               9.5| March 2, 2010|Second half of 2010|A Game of Thrones|The Stark army ar...|\n",
      "|     1|                     10|                      10|      Fire and Blood|                    52|   Alan Taylor|David Benioff, D....|      19-Jun-2011|                   3.04|Ramin Djawadi|    Alik Sakharov|   Frances Parker|        9.4|                                100|               9.4| March 2, 2010|Second half of 2010|A Game of Thrones|The North secedes...|\n",
      "|     2|                      1|                      11| The North Remembers|                    52|   Alan Taylor|David Benioff, D....|       1-Apr-2012|                   3.86|Ramin Djawadi|Kramer Morgenthau|   Frances Parker|        8.6|                                100|               8.9|April 19, 2011|Second half of 2011| A Clash of Kings|In King's Landing...|\n",
      "|     2|                      2|                      12|     The Night Lands|                    53|   Alan Taylor|David Benioff, D....|       8-Apr-2012|                   3.76|Ramin Djawadi|Kramer Morgenthau|   Frances Parker|        8.4|                                 89|               7.7|April 19, 2011|Second half of 2011| A Clash of Kings|Returning to Pyke...|\n",
      "|     2|                      3|                      13|What Is Dead May ...|                    52| Alik Sakharov|        Bryan Cogman|      15-Apr-2012|                   3.77|Ramin Djawadi|      P.J. Dillon|    Katie Weiland|        8.7|                                100|               8.3|April 19, 2011|Second half of 2011| A Clash of Kings|Catelyn arrives a...|\n",
      "|     2|                      4|                      14|     Garden of Bones|                    50|David Petrarca|      Vanessa Taylor|      22-Apr-2012|                   3.65|Ramin Djawadi|    Martin Kenzie|    Katie Weiland|        8.6|                                 97|               9.0|April 19, 2011|Second half of 2011| A Clash of Kings|Robb's Army attac...|\n",
      "|     2|                      5|                      15|The Ghost of Harr...|                    54|David Petrarca|David Benioff, D....|      29-Apr-2012|                    3.9|Ramin Djawadi|    Martin Kenzie|    Katie Weiland|        8.6|                                 96|               7.6|April 19, 2011|Second half of 2011| A Clash of Kings|At Harrenhal, Jaq...|\n",
      "|     2|                      6|                      16|The Old Gods and ...|                    54|  David Nutter|      Vanessa Taylor|       6-May-2012|                   3.88|Ramin Djawadi|    Martin Kenzie|Oral Norrie Ottey|        8.9|                                100|               9.3|April 19, 2011|Second half of 2011| A Clash of Kings|Against Cersei's ...|\n",
      "|     2|                      7|                      17| A Man Without Honor|                    55|  David Nutter|David Benioff, D....|      13-May-2012|                   3.69|Ramin Djawadi|    Martin Kenzie|Oral Norrie Ottey|        8.8|                                 96|               8.7|April 19, 2011|Second half of 2011| A Clash of Kings|Theon and his men...|\n",
      "|     2|                      8|                      18|The Prince of Win...|                    53|   Alan Taylor|David Benioff, D....|      20-May-2012|                   3.86|Ramin Djawadi| Jonathan Freeman|   Frances Parker|        8.6|                                100|               8.8|April 19, 2011|Second half of 2011| A Clash of Kings|\"Robb learns that...|\n",
      "|     2|                      9|                      19|          Blackwater|                    54| Neil Marshall| George R. R. Martin|      27-May-2012|                   3.38|Ramin Djawadi|      Sam McCurdy|Oral Norrie Ottey|        9.6|                                100|               9.5|April 19, 2011|Second half of 2011| A Clash of Kings|Stannis' fleet as...|\n",
      "|     2|                     10|                      20|     Valar Morghulis|                    63|   Alan Taylor|David Benioff, D....|       3-Jun-2012|                    4.2|Ramin Djawadi| Jonathan Freeman|   Frances Parker|        9.3|                                 92|               9.2|April 19, 2011|Second half of 2011| A Clash of Kings|Joffrey sets Sans...|\n",
      "+------+-----------------------+------------------------+--------------------+----------------------+--------------+--------------------+-----------------+-----------------------+-------------+-----------------+-----------------+-----------+-----------------------------------+------------------+--------------+-------------------+-----------------+--------------------+\n",
      "only showing top 20 rows\n",
      "\n"
     ]
    }
   ],
   "source": [
    "df_pyspark = spark.read.csv('game_of_thrones.csv', header=True, inferSchema=True)\n",
    "df_pyspark.show()"
   ]
  },
  {
   "cell_type": "code",
   "execution_count": 7,
   "metadata": {},
   "outputs": [
    {
     "data": {
      "text/plain": [
       "pyspark.sql.dataframe.DataFrame"
      ]
     },
     "execution_count": 7,
     "metadata": {},
     "output_type": "execute_result"
    }
   ],
   "source": [
    "type(df_pyspark)"
   ]
  },
  {
   "cell_type": "code",
   "execution_count": 8,
   "metadata": {},
   "outputs": [
    {
     "data": {
      "text/plain": [
       "[Row(Season=1, No. of Episode (Season)=1, No. of Episode (Overall)=1, Title of the Episode='Winter Is Coming', Running Time (Minutes)=61, Directed by='Tim Van Patten', Written by='David Benioff, D. B. Weiss', Original Air Date='17-Apr-2011', U.S. Viewers (Millions)=2.22, Music by='Ramin Djawadi', Cinematography by='Alik Sakharov', Editing by='Oral Norrie Ottey', IMDb Rating=8.9, Rotten Tomatoes Rating (Percentage)=100, Metacritic Ratings=9.1, Ordered='March 2, 2010', Filming Duration='Second half of 2010', Novel(s) Adapted='A Game of Thrones', Synopsis='\"North of the Seven Kingdoms of Westeros, Night\\'s Watch soldiers are attacked by supernatural White Walkers. One soldier escapes but is captured at Castle Winterfell. Eddard \"\"Ned\"\" Stark'),\n",
       " Row(Season=1, No. of Episode (Season)=2, No. of Episode (Overall)=2, Title of the Episode='The Kingsroad', Running Time (Minutes)=55, Directed by='Tim Van Patten', Written by='David Benioff, D. B. Weiss', Original Air Date='24-Apr-2011', U.S. Viewers (Millions)=2.2, Music by='Ramin Djawadi', Cinematography by='Alik Sakharov', Editing by='Oral Norrie Ottey', IMDb Rating=8.6, Rotten Tomatoes Rating (Percentage)=100, Metacritic Ratings=8.9, Ordered='March 2, 2010', Filming Duration='Second half of 2010', Novel(s) Adapted='A Game of Thrones', Synopsis='\"Ned, the new Hand of the King, travels to King\\'s Landing accompanied by his daughters, Sansa and Arya. Catelyn remains at Winterfell to care for the still unconscious Bran. An assassin attacks Bran, but Catelyn fends him off and Bran\\'s direwolf, Summer, kills him. Catelyn suspects the Lannisters were behind the attack. Ned\\'s illegitimate son, Jon, heads north with his uncle, Benjen Stark, to join the Night\\'s Watch, the protectors of the Wall, a massive ice structure that keeps the Wildling tribes and the mythical White Walkers from civilized Westeros. Before departing, Jon gave tomboy Arya a thin sword she names, \"\"Needle\"\". Queen Cersei\\'s younger brother'),\n",
       " Row(Season=1, No. of Episode (Season)=3, No. of Episode (Overall)=3, Title of the Episode='Lord Snow', Running Time (Minutes)=57, Directed by='Brian Kirk', Written by='David Benioff, D. B. Weiss', Original Air Date='1-May-2011', U.S. Viewers (Millions)=2.44, Music by='Ramin Djawadi', Cinematography by='Marco Pontecorvo', Editing by='Frances Parker', IMDb Rating=8.5, Rotten Tomatoes Rating (Percentage)=81, Metacritic Ratings=8.7, Ordered='March 2, 2010', Filming Duration='Second half of 2010', Novel(s) Adapted='A Game of Thrones', Synopsis='\"Ned attends the King\\'s Small Council and learns Westeros has been poorly managed and is deeply in debt. Catelyn travels to King\\'s Landing to covertly warn her husband about the assassination attempt, but she is intercepted by her childhood friend, Councillor Petyr \"\"Littlefinger\"\" Baelish. Bran learns he will never walk again and remains unable to remember the events leading to his fall. Jon struggles to adapt to life on the Wall. The once elite Night\\'s Watch now recruits many low-born and/or convicted criminals who are unimpressed by Jon\\'s bloodline. Lord Commander Mormont asks Tyrion to plead with the King to send more recruits to the Night\\'s Watch. Daenerys')]"
      ]
     },
     "execution_count": 8,
     "metadata": {},
     "output_type": "execute_result"
    }
   ],
   "source": [
    "df_pyspark.head(3)"
   ]
  },
  {
   "cell_type": "code",
   "execution_count": 9,
   "metadata": {},
   "outputs": [
    {
     "name": "stdout",
     "output_type": "stream",
     "text": [
      "+------+-----------------------+------------------------+--------------------+----------------------+--------------+--------------------+-----------------+-----------------------+-------------+-----------------+-----------------+-----------+-----------------------------------+------------------+--------------+-------------------+-----------------+--------------------+\n",
      "|Season|No. of Episode (Season)|No. of Episode (Overall)|Title of the Episode|Running Time (Minutes)|   Directed by|          Written by|Original Air Date|U.S. Viewers (Millions)|     Music by|Cinematography by|       Editing by|IMDb Rating|Rotten Tomatoes Rating (Percentage)|Metacritic Ratings|       Ordered|   Filming Duration| Novel(s) Adapted|            Synopsis|\n",
      "+------+-----------------------+------------------------+--------------------+----------------------+--------------+--------------------+-----------------+-----------------------+-------------+-----------------+-----------------+-----------+-----------------------------------+------------------+--------------+-------------------+-----------------+--------------------+\n",
      "|     1|                      1|                       1|    Winter Is Coming|                    61|Tim Van Patten|David Benioff, D....|      17-Apr-2011|                   2.22|Ramin Djawadi|    Alik Sakharov|Oral Norrie Ottey|        8.9|                                100|               9.1| March 2, 2010|Second half of 2010|A Game of Thrones|\"North of the Sev...|\n",
      "|     1|                      2|                       2|       The Kingsroad|                    55|Tim Van Patten|David Benioff, D....|      24-Apr-2011|                    2.2|Ramin Djawadi|    Alik Sakharov|Oral Norrie Ottey|        8.6|                                100|               8.9| March 2, 2010|Second half of 2010|A Game of Thrones|\"Ned, the new Han...|\n",
      "|     1|                      3|                       3|           Lord Snow|                    57|    Brian Kirk|David Benioff, D....|       1-May-2011|                   2.44|Ramin Djawadi| Marco Pontecorvo|   Frances Parker|        8.5|                                 81|               8.7| March 2, 2010|Second half of 2010|A Game of Thrones|\"Ned attends the ...|\n",
      "|     1|                      4|                       4|Cripples, Bastard...|                    55|    Brian Kirk|        Bryan Cogman|       8-May-2011|                   2.45|Ramin Djawadi| Marco Pontecorvo|   Frances Parker|        8.6|                                100|               9.1| March 2, 2010|Second half of 2010|A Game of Thrones|While returning t...|\n",
      "|     1|                      5|                       5|The Wolf and the ...|                    54|    Brian Kirk|David Benioff, D....|      15-May-2011|                   2.58|Ramin Djawadi| Marco Pontecorvo|   Frances Parker|        9.0|                                 95|               9.0| March 2, 2010|Second half of 2010|A Game of Thrones|King Robert's eun...|\n",
      "|     1|                      6|                       6|      A Golden Crown|                    52|Daniel Minahan|Jane Espenson, Da...|      22-May-2011|                   2.44|Ramin Djawadi|   Matthew Jensen| Martin Nicholson|        9.1|                                100|               9.2| March 2, 2010|Second half of 2010|A Game of Thrones|King Robert reapp...|\n",
      "|     1|                      7|                       7|  You Win or You Die|                    57|Daniel Minahan|David Benioff, D....|      29-May-2011|                    2.4|Ramin Djawadi|   Matthew Jensen| Martin Nicholson|        9.1|                                100|               9.4| March 2, 2010|Second half of 2010|A Game of Thrones|\"In King's Landin...|\n",
      "|     1|                      8|                       8|      The Pointy End|                    58|Daniel Minahan| George R. R. Martin|       5-Jun-2011|                   2.72|Ramin Djawadi|   Matthew Jensen| Martin Nicholson|        8.9|                                 95|               8.9| March 2, 2010|Second half of 2010|A Game of Thrones|Arya escapes the ...|\n",
      "|     1|                      9|                       9|              Baelor|                    56|   Alan Taylor|David Benioff, D....|      12-Jun-2011|                   2.66|Ramin Djawadi|    Alik Sakharov|   Frances Parker|        9.6|                                100|               9.5| March 2, 2010|Second half of 2010|A Game of Thrones|The Stark army ar...|\n",
      "|     1|                     10|                      10|      Fire and Blood|                    52|   Alan Taylor|David Benioff, D....|      19-Jun-2011|                   3.04|Ramin Djawadi|    Alik Sakharov|   Frances Parker|        9.4|                                100|               9.4| March 2, 2010|Second half of 2010|A Game of Thrones|The North secedes...|\n",
      "|     2|                      1|                      11| The North Remembers|                    52|   Alan Taylor|David Benioff, D....|       1-Apr-2012|                   3.86|Ramin Djawadi|Kramer Morgenthau|   Frances Parker|        8.6|                                100|               8.9|April 19, 2011|Second half of 2011| A Clash of Kings|In King's Landing...|\n",
      "|     2|                      2|                      12|     The Night Lands|                    53|   Alan Taylor|David Benioff, D....|       8-Apr-2012|                   3.76|Ramin Djawadi|Kramer Morgenthau|   Frances Parker|        8.4|                                 89|               7.7|April 19, 2011|Second half of 2011| A Clash of Kings|Returning to Pyke...|\n",
      "|     2|                      3|                      13|What Is Dead May ...|                    52| Alik Sakharov|        Bryan Cogman|      15-Apr-2012|                   3.77|Ramin Djawadi|      P.J. Dillon|    Katie Weiland|        8.7|                                100|               8.3|April 19, 2011|Second half of 2011| A Clash of Kings|Catelyn arrives a...|\n",
      "|     2|                      4|                      14|     Garden of Bones|                    50|David Petrarca|      Vanessa Taylor|      22-Apr-2012|                   3.65|Ramin Djawadi|    Martin Kenzie|    Katie Weiland|        8.6|                                 97|               9.0|April 19, 2011|Second half of 2011| A Clash of Kings|Robb's Army attac...|\n",
      "|     2|                      5|                      15|The Ghost of Harr...|                    54|David Petrarca|David Benioff, D....|      29-Apr-2012|                    3.9|Ramin Djawadi|    Martin Kenzie|    Katie Weiland|        8.6|                                 96|               7.6|April 19, 2011|Second half of 2011| A Clash of Kings|At Harrenhal, Jaq...|\n",
      "|     2|                      6|                      16|The Old Gods and ...|                    54|  David Nutter|      Vanessa Taylor|       6-May-2012|                   3.88|Ramin Djawadi|    Martin Kenzie|Oral Norrie Ottey|        8.9|                                100|               9.3|April 19, 2011|Second half of 2011| A Clash of Kings|Against Cersei's ...|\n",
      "|     2|                      7|                      17| A Man Without Honor|                    55|  David Nutter|David Benioff, D....|      13-May-2012|                   3.69|Ramin Djawadi|    Martin Kenzie|Oral Norrie Ottey|        8.8|                                 96|               8.7|April 19, 2011|Second half of 2011| A Clash of Kings|Theon and his men...|\n",
      "|     2|                      8|                      18|The Prince of Win...|                    53|   Alan Taylor|David Benioff, D....|      20-May-2012|                   3.86|Ramin Djawadi| Jonathan Freeman|   Frances Parker|        8.6|                                100|               8.8|April 19, 2011|Second half of 2011| A Clash of Kings|\"Robb learns that...|\n",
      "|     2|                      9|                      19|          Blackwater|                    54| Neil Marshall| George R. R. Martin|      27-May-2012|                   3.38|Ramin Djawadi|      Sam McCurdy|Oral Norrie Ottey|        9.6|                                100|               9.5|April 19, 2011|Second half of 2011| A Clash of Kings|Stannis' fleet as...|\n",
      "|     2|                     10|                      20|     Valar Morghulis|                    63|   Alan Taylor|David Benioff, D....|       3-Jun-2012|                    4.2|Ramin Djawadi| Jonathan Freeman|   Frances Parker|        9.3|                                 92|               9.2|April 19, 2011|Second half of 2011| A Clash of Kings|Joffrey sets Sans...|\n",
      "+------+-----------------------+------------------------+--------------------+----------------------+--------------+--------------------+-----------------+-----------------------+-------------+-----------------+-----------------+-----------+-----------------------------------+------------------+--------------+-------------------+-----------------+--------------------+\n",
      "only showing top 20 rows\n",
      "\n"
     ]
    }
   ],
   "source": [
    "df_pyspark.show()"
   ]
  },
  {
   "cell_type": "code",
   "execution_count": 10,
   "metadata": {},
   "outputs": [
    {
     "name": "stdout",
     "output_type": "stream",
     "text": [
      "+--------------------+-----------+\n",
      "|Title of the Episode|IMDb Rating|\n",
      "+--------------------+-----------+\n",
      "|    Winter Is Coming|        8.9|\n",
      "|       The Kingsroad|        8.6|\n",
      "|           Lord Snow|        8.5|\n",
      "|Cripples, Bastard...|        8.6|\n",
      "|The Wolf and the ...|        9.0|\n",
      "|      A Golden Crown|        9.1|\n",
      "|  You Win or You Die|        9.1|\n",
      "|      The Pointy End|        8.9|\n",
      "|              Baelor|        9.6|\n",
      "|      Fire and Blood|        9.4|\n",
      "| The North Remembers|        8.6|\n",
      "|     The Night Lands|        8.4|\n",
      "|What Is Dead May ...|        8.7|\n",
      "|     Garden of Bones|        8.6|\n",
      "|The Ghost of Harr...|        8.6|\n",
      "|The Old Gods and ...|        8.9|\n",
      "| A Man Without Honor|        8.8|\n",
      "|The Prince of Win...|        8.6|\n",
      "|          Blackwater|        9.6|\n",
      "|     Valar Morghulis|        9.3|\n",
      "+--------------------+-----------+\n",
      "only showing top 20 rows\n",
      "\n"
     ]
    }
   ],
   "source": [
    "df_pyspark.select(['Title of the Episode','IMDb Rating']).show()"
   ]
  },
  {
   "cell_type": "code",
   "execution_count": 11,
   "metadata": {},
   "outputs": [
    {
     "data": {
      "text/plain": [
       "Column<'Title of the Episode'>"
      ]
     },
     "execution_count": 11,
     "metadata": {},
     "output_type": "execute_result"
    }
   ],
   "source": [
    "df_pyspark['Title of the Episode']"
   ]
  },
  {
   "cell_type": "code",
   "execution_count": 12,
   "metadata": {},
   "outputs": [
    {
     "data": {
      "text/plain": [
       "[('Season', 'int'),\n",
       " ('No. of Episode (Season)', 'int'),\n",
       " ('No. of Episode (Overall)', 'int'),\n",
       " ('Title of the Episode', 'string'),\n",
       " ('Running Time (Minutes)', 'int'),\n",
       " ('Directed by', 'string'),\n",
       " ('Written by', 'string'),\n",
       " ('Original Air Date', 'string'),\n",
       " ('U.S. Viewers (Millions)', 'double'),\n",
       " ('Music by', 'string'),\n",
       " ('Cinematography by', 'string'),\n",
       " ('Editing by', 'string'),\n",
       " ('IMDb Rating', 'double'),\n",
       " ('Rotten Tomatoes Rating (Percentage)', 'int'),\n",
       " ('Metacritic Ratings', 'double'),\n",
       " ('Ordered', 'string'),\n",
       " ('Filming Duration', 'string'),\n",
       " ('Novel(s) Adapted', 'string'),\n",
       " ('Synopsis', 'string')]"
      ]
     },
     "execution_count": 12,
     "metadata": {},
     "output_type": "execute_result"
    }
   ],
   "source": [
    "df_pyspark.dtypes"
   ]
  },
  {
   "cell_type": "code",
   "execution_count": 13,
   "metadata": {},
   "outputs": [
    {
     "name": "stdout",
     "output_type": "stream",
     "text": [
      "+-------+-----------------+-----------------------+------------------------+--------------------+----------------------+--------------+--------------+-----------------+-----------------------+-------------+-----------------+-------------+------------------+-----------------------------------+------------------+--------------+--------------------+--------------------+--------------------+\n",
      "|summary|           Season|No. of Episode (Season)|No. of Episode (Overall)|Title of the Episode|Running Time (Minutes)|   Directed by|    Written by|Original Air Date|U.S. Viewers (Millions)|     Music by|Cinematography by|   Editing by|       IMDb Rating|Rotten Tomatoes Rating (Percentage)|Metacritic Ratings|       Ordered|    Filming Duration|    Novel(s) Adapted|            Synopsis|\n",
      "+-------+-----------------+-----------------------+------------------------+--------------------+----------------------+--------------+--------------+-----------------+-----------------------+-------------+-----------------+-------------+------------------+-----------------------------------+------------------+--------------+--------------------+--------------------+--------------------+\n",
      "|  count|               73|                     73|                      73|                  73|                    73|            73|            73|               73|                     73|           73|               73|           73|                73|                                 73|                73|            73|                  73|                  73|                  73|\n",
      "|   mean|4.205479452054795|      5.191780821917808|                    37.0|                null|    56.945205479452056|          null|          null|             null|      6.447808219178082|         null|             null|         null| 8.741095890410957|                  91.97260273972603| 7.817808219178081|          null|                null|                null|                null|\n",
      "| stddev|2.191897352305564|     2.8218272953224988|      21.217131442932306|                null|     7.185808566115471|          null|          null|             null|      2.827371790282817|         null|             null|         null|0.9325645072174715|                 11.499966911473804| 1.684186455908264|          null|                null|                null|                null|\n",
      "|    min|                1|                      1|                       1|      A Golden Crown|                    49|   Alan Taylor|  Bryan Cogman|       1-Apr-2012|                    2.2|Ramin Djawadi|    Alik Sakharov|Crispin Green|               4.0|                                 47|               2.6|April 10, 2012|August 2016 – Feb...|    A Clash of Kings|\"After the White ...|\n",
      "|    max|                8|                     10|                      73|  You Win or You Die|                    81|Tim Van Patten|Vanessa Taylor|       9-Jun-2013|                  13.61|Ramin Djawadi|      Sam McCurdy|    Yan Miles|               9.9|                                100|               9.7| March 2, 2010| Second half of 2011|Outline from The ...|While returning t...|\n",
      "+-------+-----------------+-----------------------+------------------------+--------------------+----------------------+--------------+--------------+-----------------+-----------------------+-------------+-----------------+-------------+------------------+-----------------------------------+------------------+--------------+--------------------+--------------------+--------------------+\n",
      "\n"
     ]
    }
   ],
   "source": [
    "df_pyspark.describe().show()"
   ]
  },
  {
   "cell_type": "code",
   "execution_count": 14,
   "metadata": {},
   "outputs": [],
   "source": [
    "## Adding Columns in data frame\n",
    "df_pyspark = df_pyspark.withColumn('Running Time (Hours)',df_pyspark['Running Time (Minutes)']/60)"
   ]
  },
  {
   "cell_type": "code",
   "execution_count": 15,
   "metadata": {},
   "outputs": [
    {
     "name": "stdout",
     "output_type": "stream",
     "text": [
      "+------+-----------------------+------------------------+--------------------+----------------------+--------------+--------------------+-----------------+-----------------------+-------------+-----------------+-----------------+-----------+-----------------------------------+------------------+--------------+-------------------+-----------------+--------------------+--------------------+\n",
      "|Season|No. of Episode (Season)|No. of Episode (Overall)|Title of the Episode|Running Time (Minutes)|   Directed by|          Written by|Original Air Date|U.S. Viewers (Millions)|     Music by|Cinematography by|       Editing by|IMDb Rating|Rotten Tomatoes Rating (Percentage)|Metacritic Ratings|       Ordered|   Filming Duration| Novel(s) Adapted|            Synopsis|Running Time (Hours)|\n",
      "+------+-----------------------+------------------------+--------------------+----------------------+--------------+--------------------+-----------------+-----------------------+-------------+-----------------+-----------------+-----------+-----------------------------------+------------------+--------------+-------------------+-----------------+--------------------+--------------------+\n",
      "|     1|                      1|                       1|    Winter Is Coming|                    61|Tim Van Patten|David Benioff, D....|      17-Apr-2011|                   2.22|Ramin Djawadi|    Alik Sakharov|Oral Norrie Ottey|        8.9|                                100|               9.1| March 2, 2010|Second half of 2010|A Game of Thrones|\"North of the Sev...|  1.0166666666666666|\n",
      "|     1|                      2|                       2|       The Kingsroad|                    55|Tim Van Patten|David Benioff, D....|      24-Apr-2011|                    2.2|Ramin Djawadi|    Alik Sakharov|Oral Norrie Ottey|        8.6|                                100|               8.9| March 2, 2010|Second half of 2010|A Game of Thrones|\"Ned, the new Han...|  0.9166666666666666|\n",
      "|     1|                      3|                       3|           Lord Snow|                    57|    Brian Kirk|David Benioff, D....|       1-May-2011|                   2.44|Ramin Djawadi| Marco Pontecorvo|   Frances Parker|        8.5|                                 81|               8.7| March 2, 2010|Second half of 2010|A Game of Thrones|\"Ned attends the ...|                0.95|\n",
      "|     1|                      4|                       4|Cripples, Bastard...|                    55|    Brian Kirk|        Bryan Cogman|       8-May-2011|                   2.45|Ramin Djawadi| Marco Pontecorvo|   Frances Parker|        8.6|                                100|               9.1| March 2, 2010|Second half of 2010|A Game of Thrones|While returning t...|  0.9166666666666666|\n",
      "|     1|                      5|                       5|The Wolf and the ...|                    54|    Brian Kirk|David Benioff, D....|      15-May-2011|                   2.58|Ramin Djawadi| Marco Pontecorvo|   Frances Parker|        9.0|                                 95|               9.0| March 2, 2010|Second half of 2010|A Game of Thrones|King Robert's eun...|                 0.9|\n",
      "|     1|                      6|                       6|      A Golden Crown|                    52|Daniel Minahan|Jane Espenson, Da...|      22-May-2011|                   2.44|Ramin Djawadi|   Matthew Jensen| Martin Nicholson|        9.1|                                100|               9.2| March 2, 2010|Second half of 2010|A Game of Thrones|King Robert reapp...|  0.8666666666666667|\n",
      "|     1|                      7|                       7|  You Win or You Die|                    57|Daniel Minahan|David Benioff, D....|      29-May-2011|                    2.4|Ramin Djawadi|   Matthew Jensen| Martin Nicholson|        9.1|                                100|               9.4| March 2, 2010|Second half of 2010|A Game of Thrones|\"In King's Landin...|                0.95|\n",
      "|     1|                      8|                       8|      The Pointy End|                    58|Daniel Minahan| George R. R. Martin|       5-Jun-2011|                   2.72|Ramin Djawadi|   Matthew Jensen| Martin Nicholson|        8.9|                                 95|               8.9| March 2, 2010|Second half of 2010|A Game of Thrones|Arya escapes the ...|  0.9666666666666667|\n",
      "|     1|                      9|                       9|              Baelor|                    56|   Alan Taylor|David Benioff, D....|      12-Jun-2011|                   2.66|Ramin Djawadi|    Alik Sakharov|   Frances Parker|        9.6|                                100|               9.5| March 2, 2010|Second half of 2010|A Game of Thrones|The Stark army ar...|  0.9333333333333333|\n",
      "|     1|                     10|                      10|      Fire and Blood|                    52|   Alan Taylor|David Benioff, D....|      19-Jun-2011|                   3.04|Ramin Djawadi|    Alik Sakharov|   Frances Parker|        9.4|                                100|               9.4| March 2, 2010|Second half of 2010|A Game of Thrones|The North secedes...|  0.8666666666666667|\n",
      "|     2|                      1|                      11| The North Remembers|                    52|   Alan Taylor|David Benioff, D....|       1-Apr-2012|                   3.86|Ramin Djawadi|Kramer Morgenthau|   Frances Parker|        8.6|                                100|               8.9|April 19, 2011|Second half of 2011| A Clash of Kings|In King's Landing...|  0.8666666666666667|\n",
      "|     2|                      2|                      12|     The Night Lands|                    53|   Alan Taylor|David Benioff, D....|       8-Apr-2012|                   3.76|Ramin Djawadi|Kramer Morgenthau|   Frances Parker|        8.4|                                 89|               7.7|April 19, 2011|Second half of 2011| A Clash of Kings|Returning to Pyke...|  0.8833333333333333|\n",
      "|     2|                      3|                      13|What Is Dead May ...|                    52| Alik Sakharov|        Bryan Cogman|      15-Apr-2012|                   3.77|Ramin Djawadi|      P.J. Dillon|    Katie Weiland|        8.7|                                100|               8.3|April 19, 2011|Second half of 2011| A Clash of Kings|Catelyn arrives a...|  0.8666666666666667|\n",
      "|     2|                      4|                      14|     Garden of Bones|                    50|David Petrarca|      Vanessa Taylor|      22-Apr-2012|                   3.65|Ramin Djawadi|    Martin Kenzie|    Katie Weiland|        8.6|                                 97|               9.0|April 19, 2011|Second half of 2011| A Clash of Kings|Robb's Army attac...|  0.8333333333333334|\n",
      "|     2|                      5|                      15|The Ghost of Harr...|                    54|David Petrarca|David Benioff, D....|      29-Apr-2012|                    3.9|Ramin Djawadi|    Martin Kenzie|    Katie Weiland|        8.6|                                 96|               7.6|April 19, 2011|Second half of 2011| A Clash of Kings|At Harrenhal, Jaq...|                 0.9|\n",
      "|     2|                      6|                      16|The Old Gods and ...|                    54|  David Nutter|      Vanessa Taylor|       6-May-2012|                   3.88|Ramin Djawadi|    Martin Kenzie|Oral Norrie Ottey|        8.9|                                100|               9.3|April 19, 2011|Second half of 2011| A Clash of Kings|Against Cersei's ...|                 0.9|\n",
      "|     2|                      7|                      17| A Man Without Honor|                    55|  David Nutter|David Benioff, D....|      13-May-2012|                   3.69|Ramin Djawadi|    Martin Kenzie|Oral Norrie Ottey|        8.8|                                 96|               8.7|April 19, 2011|Second half of 2011| A Clash of Kings|Theon and his men...|  0.9166666666666666|\n",
      "|     2|                      8|                      18|The Prince of Win...|                    53|   Alan Taylor|David Benioff, D....|      20-May-2012|                   3.86|Ramin Djawadi| Jonathan Freeman|   Frances Parker|        8.6|                                100|               8.8|April 19, 2011|Second half of 2011| A Clash of Kings|\"Robb learns that...|  0.8833333333333333|\n",
      "|     2|                      9|                      19|          Blackwater|                    54| Neil Marshall| George R. R. Martin|      27-May-2012|                   3.38|Ramin Djawadi|      Sam McCurdy|Oral Norrie Ottey|        9.6|                                100|               9.5|April 19, 2011|Second half of 2011| A Clash of Kings|Stannis' fleet as...|                 0.9|\n",
      "|     2|                     10|                      20|     Valar Morghulis|                    63|   Alan Taylor|David Benioff, D....|       3-Jun-2012|                    4.2|Ramin Djawadi| Jonathan Freeman|   Frances Parker|        9.3|                                 92|               9.2|April 19, 2011|Second half of 2011| A Clash of Kings|Joffrey sets Sans...|                1.05|\n",
      "+------+-----------------------+------------------------+--------------------+----------------------+--------------+--------------------+-----------------+-----------------------+-------------+-----------------+-----------------+-----------+-----------------------------------+------------------+--------------+-------------------+-----------------+--------------------+--------------------+\n",
      "only showing top 20 rows\n",
      "\n"
     ]
    }
   ],
   "source": [
    "df_pyspark.show()"
   ]
  },
  {
   "cell_type": "code",
   "execution_count": 16,
   "metadata": {},
   "outputs": [],
   "source": [
    "## Drop the columns\n",
    "df_pyspark = df_pyspark.drop('Running Time (Hours)')"
   ]
  },
  {
   "cell_type": "code",
   "execution_count": 17,
   "metadata": {},
   "outputs": [
    {
     "name": "stdout",
     "output_type": "stream",
     "text": [
      "+------+-----------------------+------------------------+--------------------+----------------------+--------------+--------------------+-----------------+-----------------------+-------------+-----------------+-----------------+-----------+-----------------------------------+------------------+--------------+-------------------+-----------------+--------------------+\n",
      "|Season|No. of Episode (Season)|No. of Episode (Overall)|Title of the Episode|Running Time (Minutes)|   Directed by|          Written by|Original Air Date|U.S. Viewers (Millions)|     Music by|Cinematography by|       Editing by|IMDb Rating|Rotten Tomatoes Rating (Percentage)|Metacritic Ratings|       Ordered|   Filming Duration| Novel(s) Adapted|            Synopsis|\n",
      "+------+-----------------------+------------------------+--------------------+----------------------+--------------+--------------------+-----------------+-----------------------+-------------+-----------------+-----------------+-----------+-----------------------------------+------------------+--------------+-------------------+-----------------+--------------------+\n",
      "|     1|                      1|                       1|    Winter Is Coming|                    61|Tim Van Patten|David Benioff, D....|      17-Apr-2011|                   2.22|Ramin Djawadi|    Alik Sakharov|Oral Norrie Ottey|        8.9|                                100|               9.1| March 2, 2010|Second half of 2010|A Game of Thrones|\"North of the Sev...|\n",
      "|     1|                      2|                       2|       The Kingsroad|                    55|Tim Van Patten|David Benioff, D....|      24-Apr-2011|                    2.2|Ramin Djawadi|    Alik Sakharov|Oral Norrie Ottey|        8.6|                                100|               8.9| March 2, 2010|Second half of 2010|A Game of Thrones|\"Ned, the new Han...|\n",
      "|     1|                      3|                       3|           Lord Snow|                    57|    Brian Kirk|David Benioff, D....|       1-May-2011|                   2.44|Ramin Djawadi| Marco Pontecorvo|   Frances Parker|        8.5|                                 81|               8.7| March 2, 2010|Second half of 2010|A Game of Thrones|\"Ned attends the ...|\n",
      "|     1|                      4|                       4|Cripples, Bastard...|                    55|    Brian Kirk|        Bryan Cogman|       8-May-2011|                   2.45|Ramin Djawadi| Marco Pontecorvo|   Frances Parker|        8.6|                                100|               9.1| March 2, 2010|Second half of 2010|A Game of Thrones|While returning t...|\n",
      "|     1|                      5|                       5|The Wolf and the ...|                    54|    Brian Kirk|David Benioff, D....|      15-May-2011|                   2.58|Ramin Djawadi| Marco Pontecorvo|   Frances Parker|        9.0|                                 95|               9.0| March 2, 2010|Second half of 2010|A Game of Thrones|King Robert's eun...|\n",
      "|     1|                      6|                       6|      A Golden Crown|                    52|Daniel Minahan|Jane Espenson, Da...|      22-May-2011|                   2.44|Ramin Djawadi|   Matthew Jensen| Martin Nicholson|        9.1|                                100|               9.2| March 2, 2010|Second half of 2010|A Game of Thrones|King Robert reapp...|\n",
      "|     1|                      7|                       7|  You Win or You Die|                    57|Daniel Minahan|David Benioff, D....|      29-May-2011|                    2.4|Ramin Djawadi|   Matthew Jensen| Martin Nicholson|        9.1|                                100|               9.4| March 2, 2010|Second half of 2010|A Game of Thrones|\"In King's Landin...|\n",
      "|     1|                      8|                       8|      The Pointy End|                    58|Daniel Minahan| George R. R. Martin|       5-Jun-2011|                   2.72|Ramin Djawadi|   Matthew Jensen| Martin Nicholson|        8.9|                                 95|               8.9| March 2, 2010|Second half of 2010|A Game of Thrones|Arya escapes the ...|\n",
      "|     1|                      9|                       9|              Baelor|                    56|   Alan Taylor|David Benioff, D....|      12-Jun-2011|                   2.66|Ramin Djawadi|    Alik Sakharov|   Frances Parker|        9.6|                                100|               9.5| March 2, 2010|Second half of 2010|A Game of Thrones|The Stark army ar...|\n",
      "|     1|                     10|                      10|      Fire and Blood|                    52|   Alan Taylor|David Benioff, D....|      19-Jun-2011|                   3.04|Ramin Djawadi|    Alik Sakharov|   Frances Parker|        9.4|                                100|               9.4| March 2, 2010|Second half of 2010|A Game of Thrones|The North secedes...|\n",
      "|     2|                      1|                      11| The North Remembers|                    52|   Alan Taylor|David Benioff, D....|       1-Apr-2012|                   3.86|Ramin Djawadi|Kramer Morgenthau|   Frances Parker|        8.6|                                100|               8.9|April 19, 2011|Second half of 2011| A Clash of Kings|In King's Landing...|\n",
      "|     2|                      2|                      12|     The Night Lands|                    53|   Alan Taylor|David Benioff, D....|       8-Apr-2012|                   3.76|Ramin Djawadi|Kramer Morgenthau|   Frances Parker|        8.4|                                 89|               7.7|April 19, 2011|Second half of 2011| A Clash of Kings|Returning to Pyke...|\n",
      "|     2|                      3|                      13|What Is Dead May ...|                    52| Alik Sakharov|        Bryan Cogman|      15-Apr-2012|                   3.77|Ramin Djawadi|      P.J. Dillon|    Katie Weiland|        8.7|                                100|               8.3|April 19, 2011|Second half of 2011| A Clash of Kings|Catelyn arrives a...|\n",
      "|     2|                      4|                      14|     Garden of Bones|                    50|David Petrarca|      Vanessa Taylor|      22-Apr-2012|                   3.65|Ramin Djawadi|    Martin Kenzie|    Katie Weiland|        8.6|                                 97|               9.0|April 19, 2011|Second half of 2011| A Clash of Kings|Robb's Army attac...|\n",
      "|     2|                      5|                      15|The Ghost of Harr...|                    54|David Petrarca|David Benioff, D....|      29-Apr-2012|                    3.9|Ramin Djawadi|    Martin Kenzie|    Katie Weiland|        8.6|                                 96|               7.6|April 19, 2011|Second half of 2011| A Clash of Kings|At Harrenhal, Jaq...|\n",
      "|     2|                      6|                      16|The Old Gods and ...|                    54|  David Nutter|      Vanessa Taylor|       6-May-2012|                   3.88|Ramin Djawadi|    Martin Kenzie|Oral Norrie Ottey|        8.9|                                100|               9.3|April 19, 2011|Second half of 2011| A Clash of Kings|Against Cersei's ...|\n",
      "|     2|                      7|                      17| A Man Without Honor|                    55|  David Nutter|David Benioff, D....|      13-May-2012|                   3.69|Ramin Djawadi|    Martin Kenzie|Oral Norrie Ottey|        8.8|                                 96|               8.7|April 19, 2011|Second half of 2011| A Clash of Kings|Theon and his men...|\n",
      "|     2|                      8|                      18|The Prince of Win...|                    53|   Alan Taylor|David Benioff, D....|      20-May-2012|                   3.86|Ramin Djawadi| Jonathan Freeman|   Frances Parker|        8.6|                                100|               8.8|April 19, 2011|Second half of 2011| A Clash of Kings|\"Robb learns that...|\n",
      "|     2|                      9|                      19|          Blackwater|                    54| Neil Marshall| George R. R. Martin|      27-May-2012|                   3.38|Ramin Djawadi|      Sam McCurdy|Oral Norrie Ottey|        9.6|                                100|               9.5|April 19, 2011|Second half of 2011| A Clash of Kings|Stannis' fleet as...|\n",
      "|     2|                     10|                      20|     Valar Morghulis|                    63|   Alan Taylor|David Benioff, D....|       3-Jun-2012|                    4.2|Ramin Djawadi| Jonathan Freeman|   Frances Parker|        9.3|                                 92|               9.2|April 19, 2011|Second half of 2011| A Clash of Kings|Joffrey sets Sans...|\n",
      "+------+-----------------------+------------------------+--------------------+----------------------+--------------+--------------------+-----------------+-----------------------+-------------+-----------------+-----------------+-----------+-----------------------------------+------------------+--------------+-------------------+-----------------+--------------------+\n",
      "only showing top 20 rows\n",
      "\n"
     ]
    }
   ],
   "source": [
    "df_pyspark.show()"
   ]
  },
  {
   "cell_type": "code",
   "execution_count": 18,
   "metadata": {},
   "outputs": [
    {
     "name": "stdout",
     "output_type": "stream",
     "text": [
      "+------+-----------------------+------------------------+--------------------+----------------------+--------------+--------------------+-----------------+-----------------------+-------------+-----------------+-----------------+-----------+-----------------------------------+------------------+--------------+-------------------+-----------------+--------------------+\n",
      "|Season|No. of Episode (Season)|No. of Episode (Overall)| Name of the Episode|Running Time (Minutes)|   Directed by|          Written by|Original Air Date|U.S. Viewers (Millions)|     Music by|Cinematography by|       Editing by|IMDb Rating|Rotten Tomatoes Rating (Percentage)|Metacritic Ratings|       Ordered|   Filming Duration| Novel(s) Adapted|            Synopsis|\n",
      "+------+-----------------------+------------------------+--------------------+----------------------+--------------+--------------------+-----------------+-----------------------+-------------+-----------------+-----------------+-----------+-----------------------------------+------------------+--------------+-------------------+-----------------+--------------------+\n",
      "|     1|                      1|                       1|    Winter Is Coming|                    61|Tim Van Patten|David Benioff, D....|      17-Apr-2011|                   2.22|Ramin Djawadi|    Alik Sakharov|Oral Norrie Ottey|        8.9|                                100|               9.1| March 2, 2010|Second half of 2010|A Game of Thrones|\"North of the Sev...|\n",
      "|     1|                      2|                       2|       The Kingsroad|                    55|Tim Van Patten|David Benioff, D....|      24-Apr-2011|                    2.2|Ramin Djawadi|    Alik Sakharov|Oral Norrie Ottey|        8.6|                                100|               8.9| March 2, 2010|Second half of 2010|A Game of Thrones|\"Ned, the new Han...|\n",
      "|     1|                      3|                       3|           Lord Snow|                    57|    Brian Kirk|David Benioff, D....|       1-May-2011|                   2.44|Ramin Djawadi| Marco Pontecorvo|   Frances Parker|        8.5|                                 81|               8.7| March 2, 2010|Second half of 2010|A Game of Thrones|\"Ned attends the ...|\n",
      "|     1|                      4|                       4|Cripples, Bastard...|                    55|    Brian Kirk|        Bryan Cogman|       8-May-2011|                   2.45|Ramin Djawadi| Marco Pontecorvo|   Frances Parker|        8.6|                                100|               9.1| March 2, 2010|Second half of 2010|A Game of Thrones|While returning t...|\n",
      "|     1|                      5|                       5|The Wolf and the ...|                    54|    Brian Kirk|David Benioff, D....|      15-May-2011|                   2.58|Ramin Djawadi| Marco Pontecorvo|   Frances Parker|        9.0|                                 95|               9.0| March 2, 2010|Second half of 2010|A Game of Thrones|King Robert's eun...|\n",
      "|     1|                      6|                       6|      A Golden Crown|                    52|Daniel Minahan|Jane Espenson, Da...|      22-May-2011|                   2.44|Ramin Djawadi|   Matthew Jensen| Martin Nicholson|        9.1|                                100|               9.2| March 2, 2010|Second half of 2010|A Game of Thrones|King Robert reapp...|\n",
      "|     1|                      7|                       7|  You Win or You Die|                    57|Daniel Minahan|David Benioff, D....|      29-May-2011|                    2.4|Ramin Djawadi|   Matthew Jensen| Martin Nicholson|        9.1|                                100|               9.4| March 2, 2010|Second half of 2010|A Game of Thrones|\"In King's Landin...|\n",
      "|     1|                      8|                       8|      The Pointy End|                    58|Daniel Minahan| George R. R. Martin|       5-Jun-2011|                   2.72|Ramin Djawadi|   Matthew Jensen| Martin Nicholson|        8.9|                                 95|               8.9| March 2, 2010|Second half of 2010|A Game of Thrones|Arya escapes the ...|\n",
      "|     1|                      9|                       9|              Baelor|                    56|   Alan Taylor|David Benioff, D....|      12-Jun-2011|                   2.66|Ramin Djawadi|    Alik Sakharov|   Frances Parker|        9.6|                                100|               9.5| March 2, 2010|Second half of 2010|A Game of Thrones|The Stark army ar...|\n",
      "|     1|                     10|                      10|      Fire and Blood|                    52|   Alan Taylor|David Benioff, D....|      19-Jun-2011|                   3.04|Ramin Djawadi|    Alik Sakharov|   Frances Parker|        9.4|                                100|               9.4| March 2, 2010|Second half of 2010|A Game of Thrones|The North secedes...|\n",
      "|     2|                      1|                      11| The North Remembers|                    52|   Alan Taylor|David Benioff, D....|       1-Apr-2012|                   3.86|Ramin Djawadi|Kramer Morgenthau|   Frances Parker|        8.6|                                100|               8.9|April 19, 2011|Second half of 2011| A Clash of Kings|In King's Landing...|\n",
      "|     2|                      2|                      12|     The Night Lands|                    53|   Alan Taylor|David Benioff, D....|       8-Apr-2012|                   3.76|Ramin Djawadi|Kramer Morgenthau|   Frances Parker|        8.4|                                 89|               7.7|April 19, 2011|Second half of 2011| A Clash of Kings|Returning to Pyke...|\n",
      "|     2|                      3|                      13|What Is Dead May ...|                    52| Alik Sakharov|        Bryan Cogman|      15-Apr-2012|                   3.77|Ramin Djawadi|      P.J. Dillon|    Katie Weiland|        8.7|                                100|               8.3|April 19, 2011|Second half of 2011| A Clash of Kings|Catelyn arrives a...|\n",
      "|     2|                      4|                      14|     Garden of Bones|                    50|David Petrarca|      Vanessa Taylor|      22-Apr-2012|                   3.65|Ramin Djawadi|    Martin Kenzie|    Katie Weiland|        8.6|                                 97|               9.0|April 19, 2011|Second half of 2011| A Clash of Kings|Robb's Army attac...|\n",
      "|     2|                      5|                      15|The Ghost of Harr...|                    54|David Petrarca|David Benioff, D....|      29-Apr-2012|                    3.9|Ramin Djawadi|    Martin Kenzie|    Katie Weiland|        8.6|                                 96|               7.6|April 19, 2011|Second half of 2011| A Clash of Kings|At Harrenhal, Jaq...|\n",
      "|     2|                      6|                      16|The Old Gods and ...|                    54|  David Nutter|      Vanessa Taylor|       6-May-2012|                   3.88|Ramin Djawadi|    Martin Kenzie|Oral Norrie Ottey|        8.9|                                100|               9.3|April 19, 2011|Second half of 2011| A Clash of Kings|Against Cersei's ...|\n",
      "|     2|                      7|                      17| A Man Without Honor|                    55|  David Nutter|David Benioff, D....|      13-May-2012|                   3.69|Ramin Djawadi|    Martin Kenzie|Oral Norrie Ottey|        8.8|                                 96|               8.7|April 19, 2011|Second half of 2011| A Clash of Kings|Theon and his men...|\n",
      "|     2|                      8|                      18|The Prince of Win...|                    53|   Alan Taylor|David Benioff, D....|      20-May-2012|                   3.86|Ramin Djawadi| Jonathan Freeman|   Frances Parker|        8.6|                                100|               8.8|April 19, 2011|Second half of 2011| A Clash of Kings|\"Robb learns that...|\n",
      "|     2|                      9|                      19|          Blackwater|                    54| Neil Marshall| George R. R. Martin|      27-May-2012|                   3.38|Ramin Djawadi|      Sam McCurdy|Oral Norrie Ottey|        9.6|                                100|               9.5|April 19, 2011|Second half of 2011| A Clash of Kings|Stannis' fleet as...|\n",
      "|     2|                     10|                      20|     Valar Morghulis|                    63|   Alan Taylor|David Benioff, D....|       3-Jun-2012|                    4.2|Ramin Djawadi| Jonathan Freeman|   Frances Parker|        9.3|                                 92|               9.2|April 19, 2011|Second half of 2011| A Clash of Kings|Joffrey sets Sans...|\n",
      "+------+-----------------------+------------------------+--------------------+----------------------+--------------+--------------------+-----------------+-----------------------+-------------+-----------------+-----------------+-----------+-----------------------------------+------------------+--------------+-------------------+-----------------+--------------------+\n",
      "only showing top 20 rows\n",
      "\n"
     ]
    }
   ],
   "source": [
    "## Rename the columns\n",
    "df_pyspark.withColumnRenamed('Title of the Episode','Name of the Episode').show()"
   ]
  }
 ],
 "metadata": {
  "kernelspec": {
   "display_name": "Python 3.10.0 (conda)",
   "language": "python",
   "name": "python3"
  },
  "language_info": {
   "codemirror_mode": {
    "name": "ipython",
    "version": 3
   },
   "file_extension": ".py",
   "mimetype": "text/x-python",
   "name": "python",
   "nbconvert_exporter": "python",
   "pygments_lexer": "ipython3",
   "version": "3.10.0"
  },
  "orig_nbformat": 4,
  "vscode": {
   "interpreter": {
    "hash": "410244bc69c357dcca014fcf0094231040efbd87705788c20745a3c1971447e6"
   }
  }
 },
 "nbformat": 4,
 "nbformat_minor": 2
}
